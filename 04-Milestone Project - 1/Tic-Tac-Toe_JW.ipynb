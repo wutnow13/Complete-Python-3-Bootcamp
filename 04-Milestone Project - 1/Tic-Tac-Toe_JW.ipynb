{
 "cells": [
  {
   "cell_type": "code",
   "execution_count": null,
   "metadata": {
    "tags": []
   },
   "outputs": [],
   "source": [
    "###Creating Global List for the Game Board Values###\n",
    "game_board = [' ',' ',' ',' ',' ',' ',' ',' ',' ']\n",
    "\n",
    "def print_board():\n",
    "    \n",
    "    ### Creating the Game Board Values ###\n",
    "\n",
    "    board_heading = '----GAME BOARD----'\n",
    "    top_row_game = '  {}  |  {}  |  {} '.format(game_board[6], game_board[7], game_board[8])\n",
    "    mid_row_game = '  {}  |  {}  |  {} '.format(game_board[3], game_board[4], game_board[5])\n",
    "    bot_row_game = '  {}  |  {}  |  {} '.format(game_board[0], game_board[1], game_board[2])\n",
    "    \n",
    "    ### Creating horizontal and vertical bars for rows without values###\n",
    "    dashes = '_____|_____|_____'\n",
    "    pipes = ' '*5 + '|' + ' '*5 + '|' + ' '*5\n",
    "    blank_row = ''\n",
    "\n",
    "    ### Creating the Position Key Board Vaules###\n",
    "    key_heading = '   POSITION KEY'\n",
    "    position_key = ['1','2','3','4','5','6','7','8','9']\n",
    "    top_row_key = '  {}  |  {}  |  {} '.format(position_key[6], position_key[7], position_key[8])\n",
    "    mid_row_key = '  {}  |  {}  |  {} '.format(position_key[3], position_key[4], position_key[5])\n",
    "    bot_row_key = '  {}  |  {}  |  {} '.format(position_key[0], position_key[1], position_key[2])\n",
    "    \n",
    "    print(board_heading + '\\t'*2 + key_heading) \n",
    "    print(blank_row)\n",
    "    print(pipes + '\\t'*2 + pipes)\n",
    "    print(top_row_game + '\\t'*2 + top_row_key)\n",
    "    print(dashes + '\\t'*2 + dashes)\n",
    "    print(pipes + '\\t'*2 + pipes)\n",
    "    print(mid_row_game + '\\t'*2 + mid_row_key)\n",
    "    print(dashes + '\\t'*2 + dashes)\n",
    "    print(pipes + '\\t'*2 + pipes)\n",
    "    print(bot_row_game + '\\t'*2 + bot_row_key)\n",
    "    print(pipes + '\\t'*2 + pipes)\n",
    "    print(blank_row)###Creating Global List for the Game Board Values###\n",
    "game_board = [' ',' ',' ',' ',' ',' ',' ',' ',' ']\n",
    "\n",
    "def print_board():\n",
    "    \n",
    "    ### Creating the Game Board Values ###\n",
    "\n",
    "    board_heading = '----GAME BOARD----'\n",
    "    top_row_game = '  {}  |  {}  |  {} '.format(game_board[6], game_board[7], game_board[8])\n",
    "    mid_row_game = '  {}  |  {}  |  {} '.format(game_board[3], game_board[4], game_board[5])\n",
    "    bot_row_game = '  {}  |  {}  |  {} '.format(game_board[0], game_board[1], game_board[2])\n",
    "    \n",
    "    ### Creating horizontal and vertical bars for rows without values###\n",
    "    dashes = '_____|_____|_____'\n",
    "    pipes = ' '*5 + '|' + ' '*5 + '|' + ' '*5\n",
    "    blank_row = ''\n",
    "\n",
    "    ### Creating the Position Key Board Vaules###\n",
    "    key_heading = '   POSITION KEY'\n",
    "    position_key = ['1','2','3','4','5','6','7','8','9']\n",
    "    top_row_key = '  {}  |  {}  |  {} '.format(position_key[6], position_key[7], position_key[8])\n",
    "    mid_row_key = '  {}  |  {}  |  {} '.format(position_key[3], position_key[4], position_key[5])\n",
    "    bot_row_key = '  {}  |  {}  |  {} '.format(position_key[0], position_key[1], position_key[2])\n",
    "    \n",
    "    print(board_heading + '\\t'*2 + key_heading) \n",
    "    print(blank_row)\n",
    "    print(pipes + '\\t'*2 + pipes)\n",
    "    print(top_row_game + '\\t'*2 + top_row_key)\n",
    "    print(dashes + '\\t'*2 + dashes)\n",
    "    print(pipes + '\\t'*2 + pipes)\n",
    "    print(mid_row_game + '\\t'*2 + mid_row_key)\n",
    "    print(dashes + '\\t'*2 + dashes)\n",
    "    print(pipes + '\\t'*2 + pipes)\n",
    "    print(bot_row_game + '\\t'*2 + bot_row_key)\n",
    "    print(pipes + '\\t'*2 + pipes)\n",
    "    print(blank_row)"
   ]
  },
  {
   "cell_type": "code",
   "execution_count": 8,
   "metadata": {
    "tags": []
   },
   "outputs": [
    {
     "output_type": "stream",
     "name": "stdout",
     "text": "----GAME BOARD----\t\t   POSITION KEY\n\n     |     |     \t\t     |     |     \n     |     |    \t\t  7  |  8  |  9 \n_____|_____|_____\t\t_____|_____|_____\n     |     |     \t\t     |     |     \n     |     |  x \t\t  4  |  5  |  6 \n_____|_____|_____\t\t_____|_____|_____\n     |     |     \t\t     |     |     \n     |     |    \t\t  1  |  2  |  3 \n     |     |     \t\t     |     |     \n\n"
    }
   ],
   "source": [
    "###Adding User Input to the game###\n",
    "game_board[5] = 'x'\n",
    "print_board()"
   ]
  },
  {
   "cell_type": "code",
   "execution_count": null,
   "metadata": {
    "tags": []
   },
   "outputs": [],
   "source": []
  },
  {
   "cell_type": "code",
   "execution_count": null,
   "metadata": {
    "tags": []
   },
   "outputs": [],
   "source": []
  },
  {
   "cell_type": "code",
   "execution_count": null,
   "metadata": {},
   "outputs": [],
   "source": []
  }
 ],
 "metadata": {
  "language_info": {
   "codemirror_mode": {
    "name": "ipython",
    "version": 3
   },
   "file_extension": ".py",
   "mimetype": "text/x-python",
   "name": "python",
   "nbconvert_exporter": "python",
   "pygments_lexer": "ipython3",
   "version": "3.8.3-final"
  },
  "orig_nbformat": 2,
  "kernelspec": {
   "name": "python38332bitb41470db9e2c477589f1314895ccba29",
   "display_name": "Python 3.8.3 32-bit"
  }
 },
 "nbformat": 4,
 "nbformat_minor": 2
}